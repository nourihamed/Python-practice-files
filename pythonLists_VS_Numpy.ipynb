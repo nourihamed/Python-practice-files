{
 "cells": [
  {
   "cell_type": "markdown",
   "id": "279fd7ed",
   "metadata": {},
   "source": [
    "# <font color=\"purple\" >  1- Python Lists   </font>\n",
    "# <font color=\"purple\" > 2 - Numpy   </font>\n",
    "# <font color=\"red\" > 3 - Python List VS Numpy   </font>\n",
    "\n",
    "----------------\n",
    " ## 1- Python Lists\n"
   ]
  },
  {
   "cell_type": "markdown",
   "id": "4f449ac1",
   "metadata": {},
   "source": [
    "### create an empty list"
   ]
  },
  {
   "cell_type": "code",
   "execution_count": 1,
   "id": "f0bfac35",
   "metadata": {},
   "outputs": [],
   "source": [
    "my_list = []"
   ]
  },
  {
   "cell_type": "markdown",
   "id": "ae6b81a2",
   "metadata": {},
   "source": [
    "### Define a list\n"
   ]
  },
  {
   "cell_type": "code",
   "execution_count": 2,
   "id": "e72b6370",
   "metadata": {},
   "outputs": [],
   "source": [
    "my_list = [ 10, 18, 54, 36, 99]"
   ]
  },
  {
   "cell_type": "code",
   "execution_count": 3,
   "id": "123810cc",
   "metadata": {},
   "outputs": [
    {
     "data": {
      "text/plain": [
       "[10, 18, 54, 36, 99]"
      ]
     },
     "execution_count": 3,
     "metadata": {},
     "output_type": "execute_result"
    }
   ],
   "source": [
    "my_list"
   ]
  },
  {
   "cell_type": "code",
   "execution_count": 4,
   "id": "dea5dd17",
   "metadata": {},
   "outputs": [],
   "source": [
    "stuff_list = [ 36.5, \"Hello\", 18, True, [25, 92] , -16.8, False]"
   ]
  },
  {
   "cell_type": "code",
   "execution_count": 5,
   "id": "903e20e3",
   "metadata": {},
   "outputs": [
    {
     "data": {
      "text/plain": [
       "[36.5, 'Hello', 18, True, [25, 92], -16.8, False]"
      ]
     },
     "execution_count": 5,
     "metadata": {},
     "output_type": "execute_result"
    }
   ],
   "source": [
    "stuff_list"
   ]
  },
  {
   "cell_type": "markdown",
   "id": "5d75826d",
   "metadata": {},
   "source": [
    "### Accessing list items"
   ]
  },
  {
   "cell_type": "markdown",
   "id": "c0c91a3e",
   "metadata": {},
   "source": [
    "| index  |  0  |  1  |  2  |  3  |  4 |\n",
    "| ------:|:---:|:---:|:---:|:---:|---:|\n",
    "| value  | 10  | 18  | 54  | 36  | 99 |"
   ]
  },
  {
   "cell_type": "code",
   "execution_count": 6,
   "id": "de1395a3",
   "metadata": {},
   "outputs": [
    {
     "data": {
      "text/plain": [
       "18"
      ]
     },
     "execution_count": 6,
     "metadata": {},
     "output_type": "execute_result"
    }
   ],
   "source": [
    "my_list[1]"
   ]
  },
  {
   "cell_type": "markdown",
   "id": "874cb7fc",
   "metadata": {},
   "source": [
    "| index  |  -5  |  -4  |  -3  |  -2  |  -1 |\n",
    "| ------:|:---:|:---:|:---:|:---:|---:|\n",
    "| value  | 10  | 18  | 54  | 36  | 99 |"
   ]
  },
  {
   "cell_type": "code",
   "execution_count": 7,
   "id": "c17c95bf",
   "metadata": {},
   "outputs": [
    {
     "data": {
      "text/plain": [
       "99"
      ]
     },
     "execution_count": 7,
     "metadata": {},
     "output_type": "execute_result"
    }
   ],
   "source": [
    "my_list[-1]"
   ]
  },
  {
   "cell_type": "markdown",
   "id": "8c5b89e5",
   "metadata": {},
   "source": [
    "### a slice of the list"
   ]
  },
  {
   "cell_type": "code",
   "execution_count": 8,
   "id": "43642f50",
   "metadata": {},
   "outputs": [
    {
     "data": {
      "text/plain": [
       "[18, 54, 36]"
      ]
     },
     "execution_count": 8,
     "metadata": {},
     "output_type": "execute_result"
    }
   ],
   "source": [
    "my_list[1:4]"
   ]
  },
  {
   "cell_type": "code",
   "execution_count": 9,
   "id": "f12df794",
   "metadata": {},
   "outputs": [
    {
     "data": {
      "text/plain": [
       "[54, 36, 99]"
      ]
     },
     "execution_count": 9,
     "metadata": {},
     "output_type": "execute_result"
    }
   ],
   "source": [
    "my_list[2:]"
   ]
  },
  {
   "cell_type": "code",
   "execution_count": 10,
   "id": "17d8550a",
   "metadata": {},
   "outputs": [
    {
     "data": {
      "text/plain": [
       "[10, 18, 54]"
      ]
     },
     "execution_count": 10,
     "metadata": {},
     "output_type": "execute_result"
    }
   ],
   "source": [
    "my_list[:3]"
   ]
  },
  {
   "cell_type": "code",
   "execution_count": 11,
   "id": "ee66f039",
   "metadata": {},
   "outputs": [
    {
     "data": {
      "text/plain": [
       "[36, 99]"
      ]
     },
     "execution_count": 11,
     "metadata": {},
     "output_type": "execute_result"
    }
   ],
   "source": [
    "my_list[-2:]"
   ]
  },
  {
   "cell_type": "markdown",
   "id": "e4786e7a",
   "metadata": {},
   "source": [
    "### Adding items to a list\n",
    "- append\n",
    "- extend\n",
    "- insert"
   ]
  },
  {
   "cell_type": "code",
   "execution_count": 12,
   "id": "1c7222f4",
   "metadata": {},
   "outputs": [],
   "source": [
    "my_list.append(88)"
   ]
  },
  {
   "cell_type": "code",
   "execution_count": 13,
   "id": "9e495ecf",
   "metadata": {},
   "outputs": [
    {
     "data": {
      "text/plain": [
       "[10, 18, 54, 36, 99, 88]"
      ]
     },
     "execution_count": 13,
     "metadata": {},
     "output_type": "execute_result"
    }
   ],
   "source": [
    "my_list"
   ]
  },
  {
   "cell_type": "code",
   "execution_count": 14,
   "id": "2b96036c",
   "metadata": {},
   "outputs": [],
   "source": [
    "my_list.extend([18,96])"
   ]
  },
  {
   "cell_type": "code",
   "execution_count": 15,
   "id": "a97495fd",
   "metadata": {},
   "outputs": [
    {
     "data": {
      "text/plain": [
       "[10, 18, 54, 36, 99, 88, 18, 96]"
      ]
     },
     "execution_count": 15,
     "metadata": {},
     "output_type": "execute_result"
    }
   ],
   "source": [
    "my_list"
   ]
  },
  {
   "cell_type": "code",
   "execution_count": 16,
   "id": "a091f0f5",
   "metadata": {},
   "outputs": [],
   "source": [
    "my_list.insert(1,30)"
   ]
  },
  {
   "cell_type": "code",
   "execution_count": 17,
   "id": "a7c6ba41",
   "metadata": {},
   "outputs": [
    {
     "data": {
      "text/plain": [
       "[10, 30, 18, 54, 36, 99, 88, 18, 96]"
      ]
     },
     "execution_count": 17,
     "metadata": {},
     "output_type": "execute_result"
    }
   ],
   "source": [
    "my_list"
   ]
  },
  {
   "cell_type": "markdown",
   "id": "9616f959",
   "metadata": {},
   "source": [
    "### Removing elements\n",
    " - Deleting\n",
    " - Removing\n"
   ]
  },
  {
   "cell_type": "code",
   "execution_count": 18,
   "id": "7cf9228d",
   "metadata": {},
   "outputs": [
    {
     "data": {
      "text/plain": [
       "[10, 30, 18, 54, 36, 99, 18, 96]"
      ]
     },
     "execution_count": 18,
     "metadata": {},
     "output_type": "execute_result"
    }
   ],
   "source": [
    "my_list.remove(88)\n",
    "my_list"
   ]
  },
  {
   "cell_type": "code",
   "execution_count": 19,
   "id": "aa9015ec",
   "metadata": {},
   "outputs": [
    {
     "data": {
      "text/plain": [
       "[10, 30, 18, 54, 36, 99, 96]"
      ]
     },
     "execution_count": 19,
     "metadata": {},
     "output_type": "execute_result"
    }
   ],
   "source": [
    "del my_list[-2]\n",
    "my_list"
   ]
  },
  {
   "cell_type": "code",
   "execution_count": 20,
   "id": "904810ff",
   "metadata": {},
   "outputs": [
    {
     "data": {
      "text/plain": [
       "[10, 18, 30, 36, 54, 96, 99]"
      ]
     },
     "execution_count": 20,
     "metadata": {},
     "output_type": "execute_result"
    }
   ],
   "source": [
    "my_list.sort() \n",
    "my_list"
   ]
  },
  {
   "cell_type": "code",
   "execution_count": 21,
   "id": "b5938e00",
   "metadata": {},
   "outputs": [
    {
     "data": {
      "text/plain": [
       "[99, 96, 54, 36, 30, 18, 10]"
      ]
     },
     "execution_count": 21,
     "metadata": {},
     "output_type": "execute_result"
    }
   ],
   "source": [
    "my_list.sort(reverse=True) \n",
    "my_list"
   ]
  },
  {
   "cell_type": "markdown",
   "id": "1aa9fa84",
   "metadata": {},
   "source": [
    "#  <font color='red'> 2 - NumPy </font>\n",
    "\n",
    "## The NumPy library is the core library for scientific computing in Python"
   ]
  },
  {
   "cell_type": "code",
   "execution_count": 22,
   "id": "0b18ad6f",
   "metadata": {},
   "outputs": [],
   "source": [
    "import numpy as np"
   ]
  },
  {
   "cell_type": "markdown",
   "id": "5d414fa5",
   "metadata": {},
   "source": [
    "## Creating Arrays"
   ]
  },
  {
   "cell_type": "code",
   "execution_count": 23,
   "id": "6cdbc881",
   "metadata": {},
   "outputs": [
    {
     "data": {
      "text/plain": [
       "array([1, 2, 3])"
      ]
     },
     "execution_count": 23,
     "metadata": {},
     "output_type": "execute_result"
    }
   ],
   "source": [
    "a = np.array([1,2,3]) # 1D array\n",
    "a"
   ]
  },
  {
   "cell_type": "code",
   "execution_count": 24,
   "id": "25356a13",
   "metadata": {},
   "outputs": [
    {
     "data": {
      "text/plain": [
       "array([[1.5, 2.5, 3. ],\n",
       "       [4. , 5. , 6. ]])"
      ]
     },
     "execution_count": 24,
     "metadata": {},
     "output_type": "execute_result"
    }
   ],
   "source": [
    "b = np.array([(1.5,2.5,3) , (4,5,6)] , dtype = float) # 2D array\n",
    "b"
   ]
  },
  {
   "cell_type": "code",
   "execution_count": 25,
   "id": "4c7aff44",
   "metadata": {},
   "outputs": [
    {
     "data": {
      "text/plain": [
       "array([[[1.5, 2. , 0.5],\n",
       "        [4. , 5. , 7. ]],\n",
       "\n",
       "       [[9. , 8. , 7. ],\n",
       "        [6. , 2.9, 9. ]]])"
      ]
     },
     "execution_count": 25,
     "metadata": {},
     "output_type": "execute_result"
    }
   ],
   "source": [
    "c = np.array([[(1.5,2,.5),(4,5,7)],[(9,8,7),(6,2.9,9)]] , dtype = float) # 3D array\n",
    "c"
   ]
  },
  {
   "cell_type": "markdown",
   "id": "e5e9aba0",
   "metadata": {},
   "source": [
    "## Initial Placeholder"
   ]
  },
  {
   "cell_type": "code",
   "execution_count": 26,
   "id": "c3f06479",
   "metadata": {},
   "outputs": [
    {
     "data": {
      "text/plain": [
       "array([[0., 0., 0., 0.],\n",
       "       [0., 0., 0., 0.],\n",
       "       [0., 0., 0., 0.]])"
      ]
     },
     "execution_count": 26,
     "metadata": {},
     "output_type": "execute_result"
    }
   ],
   "source": [
    "d = np.zeros((3,4))  # Create an array of zeros\n",
    "d"
   ]
  },
  {
   "cell_type": "code",
   "execution_count": 27,
   "id": "09fe40d4",
   "metadata": {},
   "outputs": [
    {
     "data": {
      "text/plain": [
       "array([[[1, 1, 1, 1, 1],\n",
       "        [1, 1, 1, 1, 1],\n",
       "        [1, 1, 1, 1, 1]],\n",
       "\n",
       "       [[1, 1, 1, 1, 1],\n",
       "        [1, 1, 1, 1, 1],\n",
       "        [1, 1, 1, 1, 1]]], dtype=int16)"
      ]
     },
     "execution_count": 27,
     "metadata": {},
     "output_type": "execute_result"
    }
   ],
   "source": [
    "e = np.ones((2,3,5), dtype= np.int16) #  Create an array of ones\n",
    "e"
   ]
  },
  {
   "cell_type": "code",
   "execution_count": 28,
   "id": "c5098d82",
   "metadata": {},
   "outputs": [
    {
     "data": {
      "text/plain": [
       "[10, 15, 20, 25, 30, 35, 40, 45, 50, 55, 60, 65, 70]"
      ]
     },
     "execution_count": 28,
     "metadata": {},
     "output_type": "execute_result"
    }
   ],
   "source": [
    "f = np.arange(10,75,5) # Create an array of evenly spaced values (step value)\n",
    "[i for i in f]"
   ]
  },
  {
   "cell_type": "code",
   "execution_count": 29,
   "id": "a4ae0a70",
   "metadata": {},
   "outputs": [
    {
     "data": {
      "text/plain": [
       "[array([[1, 1, 1, 1, 1],\n",
       "        [1, 1, 1, 1, 1],\n",
       "        [1, 1, 1, 1, 1]], dtype=int16),\n",
       " array([[1, 1, 1, 1, 1],\n",
       "        [1, 1, 1, 1, 1],\n",
       "        [1, 1, 1, 1, 1]], dtype=int16)]"
      ]
     },
     "execution_count": 29,
     "metadata": {},
     "output_type": "execute_result"
    }
   ],
   "source": [
    "k = np.linspace(0,2,9) # Create an array of evenly spaced values (number of samples)\n",
    "[i for i in e]"
   ]
  },
  {
   "cell_type": "code",
   "execution_count": 30,
   "id": "3df9fd62",
   "metadata": {},
   "outputs": [
    {
     "data": {
      "text/plain": [
       "array([[7, 7],\n",
       "       [7, 7]])"
      ]
     },
     "execution_count": 30,
     "metadata": {},
     "output_type": "execute_result"
    }
   ],
   "source": [
    "l = np.full((2,2) ,7) # Create a constant array\n",
    "l"
   ]
  },
  {
   "cell_type": "code",
   "execution_count": 31,
   "id": "ae4c9018",
   "metadata": {},
   "outputs": [
    {
     "data": {
      "text/plain": [
       "array([[1., 0., 0.],\n",
       "       [0., 1., 0.],\n",
       "       [0., 0., 1.]])"
      ]
     },
     "execution_count": 31,
     "metadata": {},
     "output_type": "execute_result"
    }
   ],
   "source": [
    "m = np.eye(3) # Create a 2X2 identity matrix\n",
    "m"
   ]
  },
  {
   "cell_type": "code",
   "execution_count": 32,
   "id": "aa4e660b",
   "metadata": {},
   "outputs": [
    {
     "data": {
      "text/plain": [
       "array([[0.14804457, 0.18007165, 0.38729425],\n",
       "       [0.78452687, 0.04048365, 0.85317672],\n",
       "       [0.42923756, 0.3605972 , 0.17742013]])"
      ]
     },
     "execution_count": 32,
     "metadata": {},
     "output_type": "execute_result"
    }
   ],
   "source": [
    "n = np.random.random((3,3))\n",
    "n"
   ]
  },
  {
   "cell_type": "code",
   "execution_count": 33,
   "id": "a67bdd91",
   "metadata": {},
   "outputs": [
    {
     "data": {
      "text/plain": [
       "array([[0., 0., 0., 0.],\n",
       "       [0., 0., 0., 0.],\n",
       "       [0., 0., 0., 0.]])"
      ]
     },
     "execution_count": 33,
     "metadata": {},
     "output_type": "execute_result"
    }
   ],
   "source": [
    "np.empty((3,4)) #Create an empty array"
   ]
  },
  {
   "cell_type": "code",
   "execution_count": 34,
   "id": "d4ba783d",
   "metadata": {},
   "outputs": [
    {
     "data": {
      "text/plain": [
       "(3,)"
      ]
     },
     "execution_count": 34,
     "metadata": {},
     "output_type": "execute_result"
    }
   ],
   "source": [
    "a.shape #Array dimensions"
   ]
  },
  {
   "cell_type": "code",
   "execution_count": 35,
   "id": "47b97577",
   "metadata": {},
   "outputs": [
    {
     "data": {
      "text/plain": [
       "3"
      ]
     },
     "execution_count": 35,
     "metadata": {},
     "output_type": "execute_result"
    }
   ],
   "source": [
    "len(a) # Length of array\n"
   ]
  },
  {
   "cell_type": "code",
   "execution_count": 36,
   "id": "06facbbb",
   "metadata": {},
   "outputs": [
    {
     "data": {
      "text/plain": [
       "2"
      ]
     },
     "execution_count": 36,
     "metadata": {},
     "output_type": "execute_result"
    }
   ],
   "source": [
    "b.ndim #Number of array dimensions"
   ]
  },
  {
   "cell_type": "code",
   "execution_count": 37,
   "id": "93351328",
   "metadata": {},
   "outputs": [
    {
     "data": {
      "text/plain": [
       "30"
      ]
     },
     "execution_count": 37,
     "metadata": {},
     "output_type": "execute_result"
    }
   ],
   "source": [
    "e.size # Number of array  elements"
   ]
  },
  {
   "cell_type": "code",
   "execution_count": 38,
   "id": "69fc07d9",
   "metadata": {},
   "outputs": [
    {
     "data": {
      "text/plain": [
       "dtype('float64')"
      ]
     },
     "execution_count": 38,
     "metadata": {},
     "output_type": "execute_result"
    }
   ],
   "source": [
    "b.dtype #Data type of array elements"
   ]
  },
  {
   "cell_type": "code",
   "execution_count": 39,
   "id": "dd55fcea",
   "metadata": {},
   "outputs": [
    {
     "data": {
      "text/plain": [
       "'float64'"
      ]
     },
     "execution_count": 39,
     "metadata": {},
     "output_type": "execute_result"
    }
   ],
   "source": [
    "b.dtype.name # Name of dataType"
   ]
  },
  {
   "cell_type": "code",
   "execution_count": 40,
   "id": "0da10477",
   "metadata": {},
   "outputs": [
    {
     "data": {
      "text/plain": [
       "array([[1, 2, 3],\n",
       "       [4, 5, 6]])"
      ]
     },
     "execution_count": 40,
     "metadata": {},
     "output_type": "execute_result"
    }
   ],
   "source": [
    "b.astype(int) #Convert an array to a different type"
   ]
  },
  {
   "cell_type": "code",
   "execution_count": 41,
   "id": "1fa3381d",
   "metadata": {},
   "outputs": [
    {
     "data": {
      "text/plain": [
       "array([[1.5, 2.5, 3. ],\n",
       "       [4. , 5. , 6. ]])"
      ]
     },
     "execution_count": 41,
     "metadata": {},
     "output_type": "execute_result"
    }
   ],
   "source": [
    "b"
   ]
  },
  {
   "cell_type": "markdown",
   "id": "e9116296",
   "metadata": {},
   "source": [
    "# Array Mathematics\n",
    "\n"
   ]
  },
  {
   "cell_type": "code",
   "execution_count": 42,
   "id": "1ffe4f64",
   "metadata": {},
   "outputs": [
    {
     "data": {
      "text/plain": [
       "(array([1, 2, 3]),\n",
       " array([[1.5, 2.5, 3. ],\n",
       "        [4. , 5. , 6. ]]))"
      ]
     },
     "execution_count": 42,
     "metadata": {},
     "output_type": "execute_result"
    }
   ],
   "source": [
    "a , b"
   ]
  },
  {
   "cell_type": "code",
   "execution_count": 43,
   "id": "cd51aea0",
   "metadata": {},
   "outputs": [
    {
     "data": {
      "text/plain": [
       "array([[-0.5, -0.5,  0. ],\n",
       "       [-3. , -3. , -3. ]])"
      ]
     },
     "execution_count": 43,
     "metadata": {},
     "output_type": "execute_result"
    }
   ],
   "source": [
    " p = a-b \n",
    "p"
   ]
  },
  {
   "cell_type": "code",
   "execution_count": 44,
   "id": "94b199ba",
   "metadata": {},
   "outputs": [
    {
     "data": {
      "text/plain": [
       "array([[-0.5, -0.5,  0. ],\n",
       "       [-3. , -3. , -3. ]])"
      ]
     },
     "execution_count": 44,
     "metadata": {},
     "output_type": "execute_result"
    }
   ],
   "source": [
    "np.subtract(a,b)"
   ]
  },
  {
   "cell_type": "code",
   "execution_count": 45,
   "id": "9131ba11",
   "metadata": {},
   "outputs": [
    {
     "data": {
      "text/plain": [
       "array([[2.5, 4.5, 6. ],\n",
       "       [5. , 7. , 9. ]])"
      ]
     },
     "execution_count": 45,
     "metadata": {},
     "output_type": "execute_result"
    }
   ],
   "source": [
    "b+a"
   ]
  },
  {
   "cell_type": "code",
   "execution_count": 46,
   "id": "f225b4b2",
   "metadata": {},
   "outputs": [
    {
     "data": {
      "text/plain": [
       "array([[2.5, 4.5, 6. ],\n",
       "       [5. , 7. , 9. ]])"
      ]
     },
     "execution_count": 46,
     "metadata": {},
     "output_type": "execute_result"
    }
   ],
   "source": [
    "np.add(b,a)"
   ]
  },
  {
   "cell_type": "code",
   "execution_count": 47,
   "id": "48348081",
   "metadata": {},
   "outputs": [
    {
     "data": {
      "text/plain": [
       "array([[0.66666667, 0.8       , 1.        ],\n",
       "       [0.25      , 0.4       , 0.5       ]])"
      ]
     },
     "execution_count": 47,
     "metadata": {},
     "output_type": "execute_result"
    }
   ],
   "source": [
    "a/b"
   ]
  },
  {
   "cell_type": "code",
   "execution_count": 48,
   "id": "20efb065",
   "metadata": {},
   "outputs": [
    {
     "data": {
      "text/plain": [
       "array([[0.66666667, 0.8       , 1.        ],\n",
       "       [0.25      , 0.4       , 0.5       ]])"
      ]
     },
     "execution_count": 48,
     "metadata": {},
     "output_type": "execute_result"
    }
   ],
   "source": [
    "np.divide(a,b)"
   ]
  },
  {
   "cell_type": "code",
   "execution_count": 49,
   "id": "bac260fb",
   "metadata": {},
   "outputs": [
    {
     "data": {
      "text/plain": [
       "array([[ 1.5,  5. ,  9. ],\n",
       "       [ 4. , 10. , 18. ]])"
      ]
     },
     "execution_count": 49,
     "metadata": {},
     "output_type": "execute_result"
    }
   ],
   "source": [
    "a*b"
   ]
  },
  {
   "cell_type": "code",
   "execution_count": 50,
   "id": "8c5a1e40",
   "metadata": {},
   "outputs": [
    {
     "data": {
      "text/plain": [
       "array([[ 1.5,  5. ,  9. ],\n",
       "       [ 4. , 10. , 18. ]])"
      ]
     },
     "execution_count": 50,
     "metadata": {},
     "output_type": "execute_result"
    }
   ],
   "source": [
    "np.multiply(a,b)"
   ]
  },
  {
   "cell_type": "code",
   "execution_count": 51,
   "id": "55575eea",
   "metadata": {},
   "outputs": [
    {
     "data": {
      "text/plain": [
       "array([[  4.48168907,  12.18249396,  20.08553692],\n",
       "       [ 54.59815003, 148.4131591 , 403.42879349]])"
      ]
     },
     "execution_count": 51,
     "metadata": {},
     "output_type": "execute_result"
    }
   ],
   "source": [
    "np.exp(b)"
   ]
  },
  {
   "cell_type": "code",
   "execution_count": 52,
   "id": "4bbc3e4e",
   "metadata": {},
   "outputs": [
    {
     "data": {
      "text/plain": [
       "array([[1.22474487, 1.58113883, 1.73205081],\n",
       "       [2.        , 2.23606798, 2.44948974]])"
      ]
     },
     "execution_count": 52,
     "metadata": {},
     "output_type": "execute_result"
    }
   ],
   "source": [
    "np.sqrt(b)"
   ]
  },
  {
   "cell_type": "code",
   "execution_count": 53,
   "id": "8ecdf4b4",
   "metadata": {},
   "outputs": [
    {
     "data": {
      "text/plain": [
       "array([0.84147098, 0.90929743, 0.14112001])"
      ]
     },
     "execution_count": 53,
     "metadata": {},
     "output_type": "execute_result"
    }
   ],
   "source": [
    "np.sin(a)"
   ]
  },
  {
   "cell_type": "code",
   "execution_count": 54,
   "id": "9896b3b4",
   "metadata": {},
   "outputs": [
    {
     "data": {
      "text/plain": [
       "array([[ 0.0707372 , -0.80114362, -0.9899925 ],\n",
       "       [-0.65364362,  0.28366219,  0.96017029]])"
      ]
     },
     "execution_count": 54,
     "metadata": {},
     "output_type": "execute_result"
    }
   ],
   "source": [
    "np.cos(b)"
   ]
  },
  {
   "cell_type": "code",
   "execution_count": 55,
   "id": "7862254e",
   "metadata": {},
   "outputs": [
    {
     "data": {
      "text/plain": [
       "array([0.        , 0.69314718, 1.09861229])"
      ]
     },
     "execution_count": 55,
     "metadata": {},
     "output_type": "execute_result"
    }
   ],
   "source": [
    "np.log(a)"
   ]
  },
  {
   "cell_type": "code",
   "execution_count": 56,
   "id": "5c0b4857",
   "metadata": {},
   "outputs": [
    {
     "ename": "ValueError",
     "evalue": "shapes (3,) and (9,) not aligned: 3 (dim 0) != 9 (dim 0)",
     "output_type": "error",
     "traceback": [
      "\u001b[1;31m---------------------------------------------------------------------------\u001b[0m",
      "\u001b[1;31mValueError\u001b[0m                                Traceback (most recent call last)",
      "Cell \u001b[1;32mIn[56], line 1\u001b[0m\n\u001b[1;32m----> 1\u001b[0m a\u001b[38;5;241m.\u001b[39mdot(k)\n",
      "\u001b[1;31mValueError\u001b[0m: shapes (3,) and (9,) not aligned: 3 (dim 0) != 9 (dim 0)"
     ]
    }
   ],
   "source": [
    "a.dot(k) # Dot product"
   ]
  },
  {
   "cell_type": "markdown",
   "id": "a3b4f782",
   "metadata": {},
   "source": [
    "## Comparison"
   ]
  },
  {
   "cell_type": "code",
   "execution_count": null,
   "id": "095c84a0",
   "metadata": {},
   "outputs": [],
   "source": [
    "a == b"
   ]
  },
  {
   "cell_type": "code",
   "execution_count": null,
   "id": "f8e77510",
   "metadata": {},
   "outputs": [],
   "source": [
    "a < b"
   ]
  },
  {
   "cell_type": "code",
   "execution_count": null,
   "id": "884d3922",
   "metadata": {},
   "outputs": [],
   "source": [
    "np.array_equal(a,b)"
   ]
  },
  {
   "cell_type": "markdown",
   "id": "4b27d2d9",
   "metadata": {},
   "source": [
    "# Aggregate Functions\n",
    "\n",
    " - Array-wise sum\n",
    " - Array-wise minimum value\n",
    " - Maximum value of an array row\n",
    " - Cumulative sum of the elements\n",
    " - Mean\n",
    "  - Median\n",
    " - Correlation coefficient\n",
    " - Standard deviation"
   ]
  },
  {
   "cell_type": "code",
   "execution_count": null,
   "id": "7e3e6be4",
   "metadata": {},
   "outputs": [],
   "source": [
    "a.sum()"
   ]
  },
  {
   "cell_type": "code",
   "execution_count": null,
   "id": "c3d99de0",
   "metadata": {},
   "outputs": [],
   "source": [
    "a.min()"
   ]
  },
  {
   "cell_type": "code",
   "execution_count": null,
   "id": "e00a904b",
   "metadata": {},
   "outputs": [],
   "source": [
    "b.max(axis = 0) "
   ]
  },
  {
   "cell_type": "code",
   "execution_count": null,
   "id": "06f72364",
   "metadata": {},
   "outputs": [],
   "source": [
    "b"
   ]
  },
  {
   "cell_type": "code",
   "execution_count": null,
   "id": "6efb1f11",
   "metadata": {
    "scrolled": true
   },
   "outputs": [],
   "source": [
    "b.cumsum(axis = 1) # Cumulative sum of the elements"
   ]
  },
  {
   "cell_type": "code",
   "execution_count": null,
   "id": "d39898d7",
   "metadata": {},
   "outputs": [],
   "source": [
    "a.mean()"
   ]
  },
  {
   "cell_type": "code",
   "execution_count": null,
   "id": "e06e4e44",
   "metadata": {},
   "outputs": [],
   "source": [
    "b"
   ]
  },
  {
   "cell_type": "code",
   "execution_count": null,
   "id": "5e96fa9e",
   "metadata": {},
   "outputs": [],
   "source": [
    "np.median(b)"
   ]
  },
  {
   "cell_type": "code",
   "execution_count": null,
   "id": "0a85824b",
   "metadata": {},
   "outputs": [],
   "source": [
    "np.corrcoef(b) # Correlation coefficient"
   ]
  },
  {
   "cell_type": "code",
   "execution_count": null,
   "id": "5300378c",
   "metadata": {},
   "outputs": [],
   "source": [
    "np.std(b)"
   ]
  },
  {
   "cell_type": "markdown",
   "id": "44cb4830",
   "metadata": {},
   "source": [
    "# Subsetting, Slicing, Indexing"
   ]
  },
  {
   "cell_type": "code",
   "execution_count": null,
   "id": "70c61cbd",
   "metadata": {},
   "outputs": [],
   "source": [
    "a[2]"
   ]
  },
  {
   "cell_type": "code",
   "execution_count": null,
   "id": "d5d72e18",
   "metadata": {},
   "outputs": [],
   "source": [
    "b[1,2]"
   ]
  },
  {
   "cell_type": "code",
   "execution_count": null,
   "id": "923c99d9",
   "metadata": {},
   "outputs": [],
   "source": [
    "a[0:2]"
   ]
  },
  {
   "cell_type": "code",
   "execution_count": null,
   "id": "589f7ccf",
   "metadata": {},
   "outputs": [],
   "source": [
    "b[0:2,1]"
   ]
  },
  {
   "cell_type": "code",
   "execution_count": null,
   "id": "d6f511c1",
   "metadata": {},
   "outputs": [],
   "source": [
    "b[:1]"
   ]
  },
  {
   "cell_type": "code",
   "execution_count": null,
   "id": "f8104e53",
   "metadata": {},
   "outputs": [],
   "source": [
    "c\n"
   ]
  },
  {
   "cell_type": "code",
   "execution_count": null,
   "id": "35c3e2bf",
   "metadata": {},
   "outputs": [],
   "source": [
    "c[1,...]"
   ]
  },
  {
   "cell_type": "code",
   "execution_count": null,
   "id": "c81bcf05",
   "metadata": {},
   "outputs": [],
   "source": [
    "c[:,1,:]"
   ]
  },
  {
   "cell_type": "code",
   "execution_count": null,
   "id": "0d7acb1c",
   "metadata": {},
   "outputs": [],
   "source": [
    "c[c<4]"
   ]
  },
  {
   "cell_type": "code",
   "execution_count": null,
   "id": "5a61bd80",
   "metadata": {},
   "outputs": [],
   "source": [
    "b"
   ]
  },
  {
   "cell_type": "code",
   "execution_count": null,
   "id": "000a345e",
   "metadata": {},
   "outputs": [],
   "source": [
    "b[[1, 0, 1, 0],[0, 1, 2, 0]]"
   ]
  },
  {
   "cell_type": "code",
   "execution_count": null,
   "id": "2333d8e6",
   "metadata": {},
   "outputs": [],
   "source": [
    "b[[1, 0, 1, 0]][:,[0,1,2,0]]"
   ]
  },
  {
   "cell_type": "markdown",
   "id": "bc3e0e0c",
   "metadata": {},
   "source": [
    "# Array Manipulation\n",
    " - Transposing Array\n",
    " - Changing Array Shape\n",
    " - Adding/Removing Elements\n",
    " - Combining Arrays"
   ]
  },
  {
   "cell_type": "code",
   "execution_count": null,
   "id": "a8cc03a6",
   "metadata": {},
   "outputs": [],
   "source": [
    "b.T"
   ]
  },
  {
   "cell_type": "code",
   "execution_count": null,
   "id": "e02216fb",
   "metadata": {},
   "outputs": [],
   "source": [
    "b.ravel() # Flatten the array"
   ]
  },
  {
   "cell_type": "code",
   "execution_count": null,
   "id": "3bdba008",
   "metadata": {},
   "outputs": [],
   "source": [
    "b.reshape(3,2)"
   ]
  },
  {
   "cell_type": "code",
   "execution_count": null,
   "id": "6896ca13",
   "metadata": {},
   "outputs": [],
   "source": [
    "h = np.arange(4,20,1)\n",
    "g = h.reshape(2,8)\n",
    "g"
   ]
  },
  {
   "cell_type": "code",
   "execution_count": null,
   "id": "7105180a",
   "metadata": {},
   "outputs": [],
   "source": [
    "g.resize(4,4)\n",
    "g"
   ]
  },
  {
   "cell_type": "code",
   "execution_count": null,
   "id": "8ffd8872",
   "metadata": {},
   "outputs": [],
   "source": [
    "np.append(h,g)"
   ]
  },
  {
   "cell_type": "code",
   "execution_count": null,
   "id": "3a49b732",
   "metadata": {},
   "outputs": [],
   "source": [
    "np.insert(a,1,50)"
   ]
  },
  {
   "cell_type": "code",
   "execution_count": null,
   "id": "4c838365",
   "metadata": {},
   "outputs": [],
   "source": [
    "np.delete(a,[0])"
   ]
  },
  {
   "cell_type": "code",
   "execution_count": null,
   "id": "92e8944c",
   "metadata": {},
   "outputs": [],
   "source": [
    "np.concatenate((a,f),axis=0)"
   ]
  },
  {
   "cell_type": "code",
   "execution_count": null,
   "id": "1e731bf1",
   "metadata": {},
   "outputs": [],
   "source": [
    "np.vstack((a,b))"
   ]
  },
  {
   "cell_type": "code",
   "execution_count": null,
   "id": "16ba1142",
   "metadata": {},
   "outputs": [],
   "source": [
    "np.hstack((e,f))"
   ]
  },
  {
   "cell_type": "code",
   "execution_count": null,
   "id": "cdb6fc6e",
   "metadata": {},
   "outputs": [],
   "source": [
    "np.hsplit(b,3)"
   ]
  },
  {
   "cell_type": "code",
   "execution_count": null,
   "id": "f1b783e9",
   "metadata": {},
   "outputs": [],
   "source": [
    "np.vsplit(b,2)"
   ]
  },
  {
   "cell_type": "markdown",
   "id": "34eaa4df",
   "metadata": {},
   "source": [
    "#  <font color=\"Blue\" >3 - Python List VS Numpy </font>"
   ]
  },
  {
   "cell_type": "markdown",
   "id": "96244174",
   "metadata": {},
   "source": [
    "# Memory consumption between Numpy array and lists"
   ]
  },
  {
   "cell_type": "code",
   "execution_count": null,
   "id": "23805313",
   "metadata": {},
   "outputs": [],
   "source": [
    "import numpy as np\n",
    "import sys\n",
    "\n",
    "s = range(1000) \n",
    "print(\"total size of list in Bytes\" , sys.getsizeof(s)*len(s))\n",
    "\n",
    "d = np.arange(1000)\n",
    "\n",
    "print(\"total size of numpy array  in Bytes\" , d.size*d.itemsize)\n"
   ]
  },
  {
   "cell_type": "markdown",
   "id": "642237d6",
   "metadata": {},
   "source": [
    "#   Time comparison between Numpy array and Python lists"
   ]
  },
  {
   "cell_type": "code",
   "execution_count": null,
   "id": "4d5b5cf5",
   "metadata": {},
   "outputs": [],
   "source": [
    "import time"
   ]
  },
  {
   "cell_type": "code",
   "execution_count": null,
   "id": "e8cd79ba",
   "metadata": {},
   "outputs": [],
   "source": [
    "size = 1000000\n",
    "\n",
    "list1 = range(size)\n",
    "list2 = range(size)\n",
    "\n",
    "array1 = np.arange(size)\n",
    "array2 = np.arange(size)\n",
    "\n",
    "initial_Time = time.time()\n",
    "result_list = [ a*b for a,b in zip(list1 , list2)]\n",
    "\n",
    "print(\"time of lists multiply\" , time.time()-initial_Time)\n",
    "\n",
    "initial_Time = time.time()\n",
    "result_array = array1*array2\n",
    "\n",
    "print(\"time of array multiply\" , time.time()-initial_Time)\n"
   ]
  },
  {
   "cell_type": "markdown",
   "id": "a6cf9de7",
   "metadata": {},
   "source": [
    "# <font color=\"orange\" >Conclusion </font>\n",
    " ## <font color=\"Blue\" >advantages of using numpy </font>\n",
    " ## - consumes less memory\n",
    " ## - Faster\n",
    " ## - Convenient to use\n"
   ]
  },
  {
   "cell_type": "code",
   "execution_count": null,
   "id": "9f598bbc",
   "metadata": {},
   "outputs": [],
   "source": []
  }
 ],
 "metadata": {
  "kernelspec": {
   "display_name": "Python 3 (ipykernel)",
   "language": "python",
   "name": "python3"
  },
  "language_info": {
   "codemirror_mode": {
    "name": "ipython",
    "version": 3
   },
   "file_extension": ".py",
   "mimetype": "text/x-python",
   "name": "python",
   "nbconvert_exporter": "python",
   "pygments_lexer": "ipython3",
   "version": "3.11.5"
  }
 },
 "nbformat": 4,
 "nbformat_minor": 5
}
