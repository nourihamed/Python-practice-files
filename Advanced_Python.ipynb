{
 "cells": [
  {
   "cell_type": "markdown",
   "id": "7e90e2c2",
   "metadata": {},
   "source": [
    "# <font color='darkcyan' > 1 - Lambda </fomt>"
   ]
  },
  {
   "cell_type": "markdown",
   "id": "cbe1e63c",
   "metadata": {},
   "source": [
    "## Syntax\n",
    "#### lambda arguments: expression"
   ]
  },
  {
   "cell_type": "code",
   "execution_count": 8,
   "id": "4f9f6618",
   "metadata": {},
   "outputs": [
    {
     "name": "stdout",
     "output_type": "stream",
     "text": [
      "Hello John\n"
     ]
    }
   ],
   "source": [
    "def greet(name):\n",
    "    return \"Hello \" + name\n",
    "print(greet(\"John\")) \n"
   ]
  },
  {
   "cell_type": "code",
   "execution_count": 9,
   "id": "cfb7b67a",
   "metadata": {},
   "outputs": [
    {
     "name": "stdout",
     "output_type": "stream",
     "text": [
      "Hello John\n"
     ]
    }
   ],
   "source": [
    "greet = lambda name : \"Hello \" + name\n",
    "print(greet(\"John\"))"
   ]
  },
  {
   "cell_type": "markdown",
   "id": "d260d941",
   "metadata": {},
   "source": [
    "##  lambda functions as arguments in higher-order functions\n",
    "### (map, filter, reduce)"
   ]
  },
  {
   "cell_type": "code",
   "execution_count": 10,
   "id": "3415205b",
   "metadata": {},
   "outputs": [
    {
     "data": {
      "text/plain": [
       "[1, 4, 9, 16, 25]"
      ]
     },
     "execution_count": 10,
     "metadata": {},
     "output_type": "execute_result"
    }
   ],
   "source": [
    "# lambda function with the map\n",
    "numbers = [1,2,3,4,5]\n",
    "squared_number = list(map(lambda x:x**2 , numbers))\n",
    "\n",
    "squared_number"
   ]
  },
  {
   "cell_type": "code",
   "execution_count": 11,
   "id": "d66b78d6",
   "metadata": {},
   "outputs": [
    {
     "data": {
      "text/plain": [
       "[2, 4]"
      ]
     },
     "execution_count": 11,
     "metadata": {},
     "output_type": "execute_result"
    }
   ],
   "source": [
    "even_numbers = list(filter(lambda x: x % 2 == 0 , numbers))\n",
    "even_numbers"
   ]
  },
  {
   "cell_type": "markdown",
   "id": "d9cb4788",
   "metadata": {},
   "source": [
    "## lambda functions to return functions as values."
   ]
  },
  {
   "cell_type": "code",
   "execution_count": 12,
   "id": "a516e405",
   "metadata": {},
   "outputs": [
    {
     "data": {
      "text/plain": [
       "8"
      ]
     },
     "execution_count": 12,
     "metadata": {},
     "output_type": "execute_result"
    }
   ],
   "source": [
    "def adder(x):\n",
    "    return lambda y: x+y\n",
    "\n",
    "add5 = adder(5) # add5 is function\n",
    "add5(3)"
   ]
  },
  {
   "cell_type": "markdown",
   "id": "8b4498b8",
   "metadata": {},
   "source": [
    "## lambda functions in sorting"
   ]
  },
  {
   "cell_type": "code",
   "execution_count": 13,
   "id": "970e9d5a",
   "metadata": {},
   "outputs": [
    {
     "data": {
      "text/plain": [
       "[9, 6, 5, 5, 5, 4, 3, 3, 2, 1, 1]"
      ]
     },
     "execution_count": 13,
     "metadata": {},
     "output_type": "execute_result"
    }
   ],
   "source": [
    "numbers = [3, 1, 4, 1, 5, 9, 2, 6, 5, 3, 5]\n",
    "sorted_numbers = sorted(numbers , key= lambda x: -x )\n",
    "sorted_numbers"
   ]
  },
  {
   "cell_type": "code",
   "execution_count": 14,
   "id": "6fa02017",
   "metadata": {},
   "outputs": [
    {
     "data": {
      "text/plain": [
       "[{'name': 'Jane', 'age': 27},\n",
       " {'name': 'John', 'age': 32},\n",
       " {'name': 'Jim', 'age': 40}]"
      ]
     },
     "execution_count": 14,
     "metadata": {},
     "output_type": "execute_result"
    }
   ],
   "source": [
    "employees = [{\"name\": \"John\", \"age\": 32},{\"name\": \"Jane\", \"age\": 27}, {\"name\": \"Jim\", \"age\": 40}]\n",
    "sorted_employees = sorted(employees, key=lambda x: x[\"age\"])\n",
    "sorted_employees"
   ]
  },
  {
   "cell_type": "markdown",
   "id": "acb2b720",
   "metadata": {},
   "source": [
    "## complex expressions and statements in lambda"
   ]
  },
  {
   "cell_type": "code",
   "execution_count": 15,
   "id": "77d4140e",
   "metadata": {},
   "outputs": [
    {
     "name": "stdout",
     "output_type": "stream",
     "text": [
      "-5\n"
     ]
    }
   ],
   "source": [
    "def calculate(x, y):\n",
    "    if x > y:\n",
    "        return x + y\n",
    "    else:\n",
    "        return x - y\n",
    "\n",
    "print(calculate(5, 10))"
   ]
  },
  {
   "cell_type": "code",
   "execution_count": 16,
   "id": "10e4b124",
   "metadata": {},
   "outputs": [
    {
     "data": {
      "text/plain": [
       "-5"
      ]
     },
     "execution_count": 16,
     "metadata": {},
     "output_type": "execute_result"
    }
   ],
   "source": [
    "calculate = lambda x, y: x + y if x > y else x - y\n",
    "calculate(5,10)"
   ]
  },
  {
   "cell_type": "markdown",
   "id": "87f77fa4",
   "metadata": {},
   "source": [
    "# <font color='darkcyan' > 2 - Generators </font>"
   ]
  },
  {
   "cell_type": "markdown",
   "id": "ae02becf",
   "metadata": {},
   "source": [
    "## very similar syntax to list comprehensions"
   ]
  },
  {
   "cell_type": "code",
   "execution_count": 17,
   "id": "441f1b5e",
   "metadata": {},
   "outputs": [
    {
     "data": {
      "text/plain": [
       "[0, 1, 4, 9, 16]"
      ]
     },
     "execution_count": 17,
     "metadata": {},
     "output_type": "execute_result"
    }
   ],
   "source": [
    "nums_squared_l = [num**2 for num in range(5)]\n",
    "nums_squared_l"
   ]
  },
  {
   "cell_type": "code",
   "execution_count": 18,
   "id": "225cbefa",
   "metadata": {},
   "outputs": [
    {
     "data": {
      "text/plain": [
       "<generator object <genexpr> at 0x0000012CD120CFB0>"
      ]
     },
     "execution_count": 18,
     "metadata": {},
     "output_type": "execute_result"
    }
   ],
   "source": [
    "nums_squared_g = ( num**2 for num in range(5))\n",
    "nums_squared_g"
   ]
  },
  {
   "cell_type": "code",
   "execution_count": 19,
   "id": "a8eda60d",
   "metadata": {},
   "outputs": [],
   "source": [
    "def multi_yield():\n",
    "    str1 = \"Hello First\"\n",
    "    yield str1\n",
    "    str1 = \"Hello second\"\n",
    "    yield  str1\n",
    "\n",
    "multi_object = multi_yield()\n"
   ]
  },
  {
   "cell_type": "code",
   "execution_count": 20,
   "id": "b2792cf3",
   "metadata": {},
   "outputs": [
    {
     "name": "stdout",
     "output_type": "stream",
     "text": [
      "Hello First\n"
     ]
    }
   ],
   "source": [
    "print(next(multi_object))"
   ]
  },
  {
   "cell_type": "code",
   "execution_count": 21,
   "id": "a828c2bd",
   "metadata": {},
   "outputs": [
    {
     "name": "stdout",
     "output_type": "stream",
     "text": [
      "Hello second\n"
     ]
    }
   ],
   "source": [
    "print(next(multi_object))"
   ]
  },
  {
   "cell_type": "markdown",
   "id": "efa4c2c2",
   "metadata": {},
   "source": [
    "# <font color='darkcyan' > 3 - map() Function </font>"
   ]
  },
  {
   "cell_type": "code",
   "execution_count": 22,
   "id": "5ea9d91b",
   "metadata": {},
   "outputs": [
    {
     "data": {
      "text/plain": [
       "[5, 6, 6]"
      ]
     },
     "execution_count": 22,
     "metadata": {},
     "output_type": "execute_result"
    }
   ],
   "source": [
    "def my_function(n):\n",
    "    return len(n)\n",
    "\n",
    "x = map(my_function , ['apple' , 'banana' , 'cherry'])\n",
    "list(x)"
   ]
  },
  {
   "cell_type": "markdown",
   "id": "e3648688",
   "metadata": {},
   "source": [
    "# <font color='darkcyan' > 4 - decorator </font>"
   ]
  },
  {
   "cell_type": "code",
   "execution_count": 23,
   "id": "dea5ae32",
   "metadata": {},
   "outputs": [
    {
     "name": "stdout",
     "output_type": "stream",
     "text": [
      "4\n"
     ]
    }
   ],
   "source": [
    "def add_one_decorator(func):\n",
    "    def add_one(*args, **kwargs):\n",
    "        value = func(*args, **kwargs)\n",
    "        return value + 1\n",
    "\n",
    "    return add_one\n",
    "\n",
    "@add_one_decorator\n",
    "def add(a,b):\n",
    "    return a+b\n",
    "\n",
    "print(add(1,2)) # 1+(1+2)=4\n"
   ]
  },
  {
   "cell_type": "code",
   "execution_count": 24,
   "id": "4042ae97",
   "metadata": {},
   "outputs": [
    {
     "name": "stdout",
     "output_type": "stream",
     "text": [
      "befor the function call\n",
      "inside my function\n",
      "after the function call\n"
     ]
    }
   ],
   "source": [
    "def my_decorator(func):\n",
    "\n",
    "    def my_wrapper():\n",
    "        print(\"befor the function call\")\n",
    "        func()\n",
    "        print(\"after the function call\")\n",
    "        \n",
    "    return my_wrapper\n",
    "        \n",
    "        \n",
    "        \n",
    "        \n",
    "\n",
    "@my_decorator    \n",
    "def my_function():\n",
    "    print(\"inside my function\")\n",
    "    \n",
    "my_function()"
   ]
  },
  {
   "cell_type": "markdown",
   "id": "4dc9cf1b",
   "metadata": {},
   "source": [
    "# <font color='darkcyan' >  5 - List Comprehension </font>\n",
    "\n",
    "###  a shorter syntax when you want to create a new list based on the values of an existing list."
   ]
  },
  {
   "cell_type": "code",
   "execution_count": 25,
   "id": "44d700fb",
   "metadata": {},
   "outputs": [
    {
     "data": {
      "text/plain": [
       "[1, 4, 9, 16, 25, 36]"
      ]
     },
     "execution_count": 25,
     "metadata": {},
     "output_type": "execute_result"
    }
   ],
   "source": [
    "nums = [1,2,3,4,5,6]\n",
    "square = [num*num for num in nums]\n",
    "square"
   ]
  },
  {
   "cell_type": "code",
   "execution_count": 26,
   "id": "9bcee38a",
   "metadata": {},
   "outputs": [
    {
     "data": {
      "text/plain": [
       "[8, 64, 216]"
      ]
     },
     "execution_count": 26,
     "metadata": {},
     "output_type": "execute_result"
    }
   ],
   "source": [
    "new_list = [num**3 for num in nums if num %2 ==0]\n",
    "new_list"
   ]
  },
  {
   "cell_type": "code",
   "execution_count": 27,
   "id": "7f73022f",
   "metadata": {},
   "outputs": [
    {
     "name": "stdout",
     "output_type": "stream",
     "text": [
      "[90, 90, 91, 94, 99, 89, 87, 94]\n"
     ]
    }
   ],
   "source": [
    "numbers = [70, 60, 80, 90, 50,82,90,91,84,82,94,99,78,65,61,45,89,87,49,76,81,94]\n",
    " #function to check scores above 80\n",
    "def check_score(number):\n",
    "    if number >=85:\n",
    "          return True  \n",
    "\n",
    "    return False\n",
    "\n",
    "# Extract elements from the numbers list for which check_score() returns True\n",
    "#using filter function on list numbers to extract scores above 85\n",
    "percentage_score = filter(check_score, numbers)\n",
    "\n",
    "# converting to list\n",
    "scores = list(percentage_score)\n",
    "print(scores)"
   ]
  },
  {
   "cell_type": "code",
   "execution_count": 28,
   "id": "d1bd53c0-b6f7-4858-afa4-3843a263dac1",
   "metadata": {},
   "outputs": [
    {
     "data": {
      "text/plain": [
       "[90, 90, 91, 94, 99, 89, 87, 94]"
      ]
     },
     "execution_count": 28,
     "metadata": {},
     "output_type": "execute_result"
    }
   ],
   "source": [
    "scores2 = list(filter( lambda x : x>=85 , numbers))\n",
    "scores2"
   ]
  },
  {
   "cell_type": "markdown",
   "id": "9ae89728-1e90-4189-a5b1-90092fab49ef",
   "metadata": {},
   "source": [
    "# <font color='darkcyan' >  6 - RegEx </font>\n",
    "\n",
    "Python provides innate support for regular expressions via the re module."
   ]
  },
  {
   "cell_type": "markdown",
   "id": "0e344a9a-e479-43ef-bc2a-e1dd9e6172e7",
   "metadata": {},
   "source": [
    "## Common Functions in the re Module\n"
   ]
  },
  {
   "cell_type": "code",
   "execution_count": 29,
   "id": "9a66b188-6b8c-4173-be57-f170fd87c641",
   "metadata": {},
   "outputs": [],
   "source": [
    "import re"
   ]
  },
  {
   "cell_type": "markdown",
   "id": "d146a6f6-7a94-4c59-8cb3-b6095454d090",
   "metadata": {},
   "source": [
    "### a. re.match() Function"
   ]
  },
  {
   "cell_type": "code",
   "execution_count": 30,
   "id": "ef5f67c7-9555-4ef3-a786-486b40c153cf",
   "metadata": {},
   "outputs": [
    {
     "name": "stdout",
     "output_type": "stream",
     "text": [
      "Python\n"
     ]
    }
   ],
   "source": [
    "pattern = \"Python\"\n",
    "text = \"Python is amazing.\"\n",
    "\n",
    "match = re.match(pattern  , text)\n",
    "\n",
    "if match:\n",
    "    print(match.group())\n",
    "else:\n",
    "    print(\"NO match\")\n"
   ]
  },
  {
   "cell_type": "markdown",
   "id": "b0171835-d71d-488b-916a-dcc2d8ffabbd",
   "metadata": {},
   "source": [
    "### b. re.search() Function"
   ]
  },
  {
   "cell_type": "code",
   "execution_count": 36,
   "id": "b0073239-f03e-4c66-8ab5-20c0e4c2551d",
   "metadata": {},
   "outputs": [
    {
     "name": "stdout",
     "output_type": "stream",
     "text": [
      "amazing\n"
     ]
    }
   ],
   "source": [
    "pattern = \"amazing\"\n",
    "text = \"Python is amazing.\"\n",
    "\n",
    "match = re.search(pattern , text)\n",
    "\n",
    "if match:\n",
    "    print(match.group())\n",
    "          \n",
    "else:\n",
    "    print(\"NO match\")"
   ]
  },
  {
   "cell_type": "markdown",
   "id": "26c5727b-cd2b-42a8-98fc-30dcbbff5e58",
   "metadata": {},
   "source": [
    "### re.match() searches for matches from the beginning of a string\n",
    "### while\n",
    "### re.search() searches for matches anywhere in the string."
   ]
  },
  {
   "cell_type": "code",
   "execution_count": 39,
   "id": "a9994bf5-ad0c-43a1-aadf-24733df97a0f",
   "metadata": {},
   "outputs": [
    {
     "name": "stdout",
     "output_type": "stream",
     "text": [
      "Python\n",
      "None\n",
      "People\n",
      "People\n"
     ]
    }
   ],
   "source": [
    "import re\n",
    "\n",
    "claim = 'People love Python.'\n",
    "\n",
    "print(re.search(r'Python', claim).group())\n",
    "# => Python\n",
    "\n",
    "print(re.match(r'Python', claim))\n",
    "# => None\n",
    "\n",
    "print(re.search(r'People', claim).group())\n",
    "# => People\n",
    "\n",
    "print(re.match(r'People', claim).group())\n",
    "# => People\n"
   ]
  },
  {
   "cell_type": "markdown",
   "id": "c8e73c52-a9f5-4b64-bf13-5acf42cf1f5d",
   "metadata": {},
   "source": [
    "### c. re.findall() Function"
   ]
  },
  {
   "cell_type": "code",
   "execution_count": 40,
   "id": "c3957dc0-51f4-45dd-9808-1313e5279d65",
   "metadata": {},
   "outputs": [
    {
     "name": "stdout",
     "output_type": "stream",
     "text": [
      "['a', 'a']\n"
     ]
    }
   ],
   "source": [
    "pattern = \"a\"\n",
    "text = \"This is an example text.\"\n",
    "# Find all occurrences of 'a' in the text\n",
    "matches = re.findall(pattern, text)\n",
    "# Output the matches\n",
    "print(matches)"
   ]
  },
  {
   "cell_type": "markdown",
   "id": "48e32fa0-6001-471b-a7f3-054ed8e494d2",
   "metadata": {},
   "source": [
    "### d. re.finditer() Function\n"
   ]
  },
  {
   "cell_type": "code",
   "execution_count": 41,
   "id": "eb0f4066-03bc-43df-91bd-67e49480fdd5",
   "metadata": {},
   "outputs": [
    {
     "name": "stdout",
     "output_type": "stream",
     "text": [
      "match found at index: 8 : a\n",
      "match found at index: 13 : a\n"
     ]
    }
   ],
   "source": [
    "pattern = \"a\"\n",
    "text = \"This is an example text.\"\n",
    "# Find all occurrences of 'a' in the text\n",
    "matches = re.finditer(pattern, text)\n",
    "\n",
    "for match in matches:\n",
    "    print(f'match found at index: {match.start()} : {match.group()}')"
   ]
  },
  {
   "cell_type": "markdown",
   "id": "6c1f7dfe-34b6-45de-a6ac-8f98c8cd58ec",
   "metadata": {},
   "source": [
    "### e. re.sub() Function"
   ]
  },
  {
   "cell_type": "code",
   "execution_count": 42,
   "id": "5d459f28-4518-49d8-9108-f097479b8603",
   "metadata": {},
   "outputs": [
    {
     "data": {
      "text/plain": [
       "'I love Java. Java is amazing.'"
      ]
     },
     "execution_count": 42,
     "metadata": {},
     "output_type": "execute_result"
    }
   ],
   "source": [
    "pattern = \"Python\"\n",
    "replacement = \"Java\"\n",
    "text = \"I love Python. Python is amazing.\"\n",
    "# Replace 'Python' with 'Java'\n",
    "\n",
    "new_text = re.sub(pattern , replacement , text)\n",
    "new_text"
   ]
  },
  {
   "cell_type": "markdown",
   "id": "114f922b-3098-48fa-8ef5-95ada25602f8",
   "metadata": {},
   "source": [
    "### b. Meta-characters\n",
    "    . (Dot): Matches any character except a newline.\n",
    "    ^ (Caret): Matches the start of the string.\n",
    "    $ (Dollar Sign): Matches the end of the string.\n",
    "    [] (Square Brackets): Matches any one of the characters inside the brackets.\n",
    "    \\ (Backslash): Escapes special characters or signals a particular sequence.\n"
   ]
  },
  {
   "cell_type": "markdown",
   "id": "1320783a-3406-4296-832d-63a110481a46",
   "metadata": {},
   "source": [
    "#### i. Dot (.)\n",
    "#### Matches with any single character except newline '\\n'."
   ]
  },
  {
   "cell_type": "code",
   "execution_count": 43,
   "id": "c9c0343e-f81a-4e92-bac4-64b79834faac",
   "metadata": {},
   "outputs": [
    {
     "name": "stdout",
     "output_type": "stream",
     "text": [
      "['pat', 'pet', 'p5t']\n"
     ]
    }
   ],
   "source": [
    "import re \n",
    "pattern = \"p.t\"\n",
    "text = \"pat, pet, p5t, but not pt.\" \n",
    "# Find all occurrences of 'Python' \n",
    "matches = re.findall(pattern, text) \n",
    "# Output the matches \n",
    "print(matches)"
   ]
  },
  {
   "cell_type": "markdown",
   "id": "98211fe4-ef5b-453c-9316-8a9d1e67fd42",
   "metadata": {},
   "source": [
    "#### ii. Caret (^)\n",
    "#### The caret ^ is used to check if a string starts with a certain character."
   ]
  },
  {
   "cell_type": "code",
   "execution_count": 44,
   "id": "900580f8-1d45-408d-bedb-23aa49ea58f3",
   "metadata": {},
   "outputs": [
    {
     "name": "stdout",
     "output_type": "stream",
     "text": [
      "Match found: Hello\n"
     ]
    }
   ],
   "source": [
    "import re\n",
    "pattern = \"^Hello\"\n",
    "text = \"Hello, world!\"\n",
    "# Use re.match() because it checks for a match only at the beginning of the string\n",
    "match = re.match(pattern, text)\n",
    "# Output the match\n",
    "if match:\n",
    "    print(\"Match found:\", match.group())\n",
    "else:\n",
    "    print(\"No match found\")"
   ]
  },
  {
   "cell_type": "markdown",
   "id": "6dff147b-0c35-49d4-9018-d8f853f1f639",
   "metadata": {},
   "source": [
    "#### iii. Dollar Sign (\\$) \n",
    "The dollar sign $ is used to check if a string ends with a certain character.\n"
   ]
  },
  {
   "cell_type": "code",
   "execution_count": 45,
   "id": "aa7b207f-d39f-4832-9233-ce5d0a8fb76c",
   "metadata": {},
   "outputs": [
    {
     "name": "stdout",
     "output_type": "stream",
     "text": [
      "Match found: world\n"
     ]
    }
   ],
   "source": [
    "import re\n",
    "pattern = \"world$\"\n",
    "text = \"Hello, world\"\n",
    "# Use re.search() to search the entire string\n",
    "match = re.search(pattern, text)\n",
    "# Output the match\n",
    "if match:\n",
    "    print(\"Match found:\", match.group())  # Output: Match found: world\n",
    "else:\n",
    "    print(\"No match found\")"
   ]
  },
  {
   "cell_type": "markdown",
   "id": "aba372d6-7b67-468c-9854-b4560b18c986",
   "metadata": {},
   "source": [
    "## c. Quantifiers\n",
    "    *: Matches 0 or more repetitions of the preceding pattern.\n",
    "    +: Matches 1 or more repetitions of the preceding pattern.\n",
    "    ?: Matches 0 or 1 repetition of the preceding pattern.\n",
    "    {n}: Matches exactly n repetitions of the preceding pattern.\n",
    "    {n,}: Matches n or more repetitions of the preceding pattern.\n",
    "    {n,m}: Matches between n and m repetitions of the preceding pattern.\n"
   ]
  },
  {
   "cell_type": "markdown",
   "id": "4c4f2250-d0ea-4a36-82fa-bf6907a7010f",
   "metadata": {},
   "source": [
    "### i. Asterisk (*)\n",
    "The asterisk (*) in a regular expression signifies that the previous character can appear zero or more times."
   ]
  },
  {
   "cell_type": "code",
   "execution_count": 50,
   "id": "4cfb9cc9-0080-4224-af52-8f33729a4aec",
   "metadata": {},
   "outputs": [
    {
     "name": "stdout",
     "output_type": "stream",
     "text": [
      "['p', 'py', 'pyy', 'pyyy', 'pyyyy', 'p']\n"
     ]
    }
   ],
   "source": [
    "import re\n",
    "\n",
    "pattern = \"py*\"\n",
    "text = \"p py pyy pyyy pyyyy tp\"\n",
    "\n",
    "matches = re.findall(pattern, text)\n",
    "\n",
    "print(matches) "
   ]
  },
  {
   "cell_type": "markdown",
   "id": "552a9d5f-6236-4347-943f-c31d3f4a3fad",
   "metadata": {},
   "source": [
    "### ii. Plus (+)\n",
    "The plus + matches 1 or more repetitions of the previous character."
   ]
  },
  {
   "cell_type": "code",
   "execution_count": 51,
   "id": "e3b936a8-cddc-4a4c-9da1-d1fee1910f14",
   "metadata": {},
   "outputs": [
    {
     "name": "stdout",
     "output_type": "stream",
     "text": [
      "['py', 'pyy', 'pyyy', 'pyyyy']\n"
     ]
    }
   ],
   "source": [
    "import re\n",
    "\n",
    "pattern = \"py+\"\n",
    "text = \"p py pyy pyyy pyyyy tp\"\n",
    "\n",
    "matches = re.findall(pattern, text)\n",
    "\n",
    "print(matches)  # Output: ['py', 'pyy', 'pyyy', 'pyyy']"
   ]
  },
  {
   "cell_type": "markdown",
   "id": "1e70021a-6b12-4806-ba82-c7089b340afe",
   "metadata": {},
   "source": [
    "#### iii. Question Mark (?)\n",
    "The question mark ? matches 0 or 1 repetition of the previous character. It makes the previous character optional."
   ]
  },
  {
   "cell_type": "code",
   "execution_count": 53,
   "id": "502cab89-0a84-43f8-974d-8e254f2b7193",
   "metadata": {},
   "outputs": [
    {
     "name": "stdout",
     "output_type": "stream",
     "text": [
      "['p', 'py', 'py', 'py', 'py', 'p']\n"
     ]
    }
   ],
   "source": [
    "import re\n",
    "\n",
    "pattern = \"py?\"\n",
    "\n",
    "text = \"p py pyy pyyy pyyyy tp\"\n",
    "\n",
    "matches = re.findall(pattern, text)\n",
    "\n",
    "print(matches)  # Output: ['p', 'py', 'p', 'p', 'p']"
   ]
  },
  {
   "cell_type": "markdown",
   "id": "553edfcb-ee00-415c-bac7-66af5214c41f",
   "metadata": {},
   "source": [
    "#### iv. Curly Braces ({})\n",
    "Curly braces {} allow you to match a specific number of repetitions."
   ]
  },
  {
   "cell_type": "code",
   "execution_count": 56,
   "id": "971c58ee-dbd6-46ab-8bc9-58af669ca1fa",
   "metadata": {},
   "outputs": [
    {
     "name": "stdout",
     "output_type": "stream",
     "text": [
      "['pyy', 'pyyy', 'pyyy', 'pyy']\n"
     ]
    }
   ],
   "source": [
    "import re\n",
    "\n",
    "pattern = \"py{2,3}\"\n",
    "text = \"py, pyy, pyyy, pyyyy tp tpy tpyy\"\n",
    "\n",
    "matches = re.findall(pattern, text)\n",
    "\n",
    "print(matches)  # Output: ['pyy', 'pyyy', 'pyy']"
   ]
  },
  {
   "cell_type": "markdown",
   "id": "27acabff-11dd-4a4a-b8a2-2f1113e398a6",
   "metadata": {},
   "source": [
    "# Special Characters in Python Regular Expressions\n",
    "    \\d: Matches any digit.\n",
    "    \\D: Matches any non-digit character.\n",
    "    \\s: Matches any whitespace character.\n",
    "    \\S: Matches any non-whitespace character.\n",
    "    \\w: Matches any alphanumeric character.\n",
    "    \\W: Matches any non-alphanumeric character.\n"
   ]
  },
  {
   "cell_type": "markdown",
   "id": "73b56fe3-e975-4102-85f4-8e64b2393f47",
   "metadata": {},
   "source": [
    "### a. Character Classes"
   ]
  },
  {
   "cell_type": "markdown",
   "id": "313f60e2-6207-46d8-8ca6-7dbd43b5dbba",
   "metadata": {},
   "source": [
    "#### i. \\d, \\D\n",
    "The \"\\d\" is used to find numbers (from 0 to 9),\n",
    "<br>\n",
    "on the contrary, \"\\D\" is used to find elements that are not numbers."
   ]
  },
  {
   "cell_type": "code",
   "execution_count": 60,
   "id": "a24265f8-4721-40b4-b018-ff5a0b5dedcc",
   "metadata": {},
   "outputs": [
    {
     "name": "stdout",
     "output_type": "stream",
     "text": [
      "['1', '2', '3', '4', '5', '6', '7', '8', '9', '0']\n"
     ]
    }
   ],
   "source": [
    "import re\n",
    "pattern = '\\\\d' #'\\d'\n",
    "text = \"My phone number is 123-456-7890.\"\n",
    "# Find all digits in the text\n",
    "matches = re.findall(pattern, text)\n",
    "# Output the matches\n",
    "print(matches)  "
   ]
  },
  {
   "cell_type": "markdown",
   "id": "121c9e70-5ece-4ab1-947c-7daf1d640ff1",
   "metadata": {},
   "source": [
    "### ii. \\s, \\S\n",
    "The \"\\s\" can be used to find whitespace characters,<br>\n",
    "on the opposite \"\\S can be used to find anything that is not whitespace."
   ]
  },
  {
   "cell_type": "code",
   "execution_count": 63,
   "id": "06a95042-d0fe-45b7-aa2e-2ce25f050150",
   "metadata": {},
   "outputs": [
    {
     "name": "stdout",
     "output_type": "stream",
     "text": [
      "[' ', ' ', ' ', ' ', ' ', ' ', '\\t']\n"
     ]
    }
   ],
   "source": [
    "import re\n",
    "pattern = \"\\\\s\" #'\\s'\n",
    "text = \"This is a text with spaces and\\ttabs.\"\n",
    "# Find all whitespace characters in the text\n",
    "matches = re.findall(pattern, text)\n",
    "# Output the matches\n",
    "print(matches)  # Output: [' ', ' ', ' ', ' ', ' ', ' ', '\\t']"
   ]
  },
  {
   "cell_type": "markdown",
   "id": "2f7b4cf5-18bb-4c89-8cd6-ad19868f3259",
   "metadata": {},
   "source": [
    "### iii. \\w, \\W\n",
    "The \"\\w\"  can be used to find words. </br>\n",
    "(letters, numbers, and underscore characters) </br>\n",
    "“\\W” is the opposite of that."
   ]
  },
  {
   "cell_type": "code",
   "execution_count": 78,
   "id": "77ed31c8-243a-48bf-83ad-c6ef69bcbd65",
   "metadata": {},
   "outputs": [
    {
     "name": "stdout",
     "output_type": "stream",
     "text": [
      "['T', 'h', 'i', 's', 'i', 's', 'a', 'n', 'e', 'x', 'a', 'm', 'p', 'l', 'e', 'w', 'i', 't', 'h', 'w', 'o', 'r', 'd', 's', 'a', 'n', 'd', 'n', 'u', 'm', 'b', 'e', 'r', 's', '1', '2', '3']\n"
     ]
    }
   ],
   "source": [
    "import re\n",
    "pattern = \"\\\\w\"\n",
    "text = \"This is an example with words and numbers 123!\"\n",
    "# Find all word characters in the text\n",
    "matches = re.findall(pattern, text)\n",
    "# Output the matches\n",
    "print(matches)"
   ]
  },
  {
   "cell_type": "markdown",
   "id": "1d17006c-89d9-4dac-a94d-50ee01332a74",
   "metadata": {},
   "source": [
    "## b. Predefined Character Classes"
   ]
  },
  {
   "cell_type": "code",
   "execution_count": 67,
   "id": "86b50587-8477-4ed7-bf2b-cbfad9f0e48b",
   "metadata": {},
   "outputs": [
    {
     "name": "stdout",
     "output_type": "stream",
     "text": [
      "['2', '0', '2', '3']\n"
     ]
    }
   ],
   "source": [
    "import re\n",
    "pattern = \"\\\\d\" #'\\d'\n",
    "text = \"The year is 2023.\"\n",
    "# Find all digits in the text\n",
    "matches = re.findall(pattern, text)\n",
    "# Output the matches\n",
    "print(matches) "
   ]
  },
  {
   "cell_type": "markdown",
   "id": "14dc52bf-9f80-4fba-9c82-a8b32ed5b867",
   "metadata": {},
   "source": [
    "## c. Custom Character Classes\n",
    "Custom character classes allow you to define your own set of characters using square brackets [ ]."
   ]
  },
  {
   "cell_type": "code",
   "execution_count": 68,
   "id": "6c51a298-53d6-41cc-89c5-b9ddc0783235",
   "metadata": {},
   "outputs": [
    {
     "name": "stdout",
     "output_type": "stream",
     "text": [
      "['i', 'i', 'a', 'e', 'a', 'e', 'e']\n"
     ]
    }
   ],
   "source": [
    "import re\n",
    "pattern = \"[aeiou]\"\n",
    "text = \"This is an example text.\"\n",
    "# Find all vowels in the text\n",
    "matches = re.findall(pattern, text)\n",
    "# Output the matches\n",
    "print(matches) "
   ]
  },
  {
   "cell_type": "markdown",
   "id": "72ebe860-8ba1-4e04-9aa1-d1e278e65e1f",
   "metadata": {},
   "source": [
    "#### We also can use “-” to define the range of characters."
   ]
  },
  {
   "cell_type": "code",
   "execution_count": 69,
   "id": "88c2e4ed-7b4e-46f4-958c-c60b62b220f9",
   "metadata": {},
   "outputs": [
    {
     "name": "stdout",
     "output_type": "stream",
     "text": [
      "['T', 'E', 'T', 'W', 'U', 'L']\n"
     ]
    }
   ],
   "source": [
    "pattern = \"[A-Z]\"\n",
    "text = \"This is an Example Text With Uppercase Letters.\"\n",
    "# Find all uppercase letters in the text\n",
    "matches = re.findall(pattern, text)\n",
    "# Output the matches\n",
    "print(matches)"
   ]
  },
  {
   "cell_type": "markdown",
   "id": "7d14aa01-5540-4e23-9baa-2f26f7944b8f",
   "metadata": {},
   "source": [
    "# Compiling Python Regular Expressions"
   ]
  },
  {
   "cell_type": "markdown",
   "id": "21bb5233-720c-4875-bdcc-c4349695e31c",
   "metadata": {},
   "source": [
    "## a. The compile() Method\n"
   ]
  },
  {
   "cell_type": "code",
   "execution_count": 70,
   "id": "3bfd2b84-b765-4b75-bf30-3eeb74f17811",
   "metadata": {},
   "outputs": [
    {
     "name": "stdout",
     "output_type": "stream",
     "text": [
      "['3', '4']\n"
     ]
    }
   ],
   "source": [
    "import re\n",
    "# Compile the regular expression pattern\n",
    "pattern = re.compile(r'\\d+')  # Matches one or more digits\n",
    "# Use the pattern object to search for matches\n",
    "text = \"There are 3 apples and 4 oranges.\"\n",
    "matches = pattern.findall(text)\n",
    "# Output the matches\n",
    "print(matches) "
   ]
  },
  {
   "cell_type": "markdown",
   "id": "5a671df0-97e7-47d5-a3d9-1f1fddff411f",
   "metadata": {},
   "source": [
    "## b. Benefits of Compiling Regular Expressions\n",
    "\n",
    "Here are some benefits of using regular expressions;\n",
    "\n",
    " - Performance: It is faster, especially if the regular expressions will be used again and again.\n",
    " - Reusability: Once compiled, the same pattern object can be reused multiple times within different parts of the code.\n",
    " - Readability: Using a pattern object can make your code cleaner, especially if you are using complex regular expressions."
   ]
  },
  {
   "cell_type": "code",
   "execution_count": 72,
   "id": "edd20d6d-cd5a-44f4-b2c2-1f507f6aad93",
   "metadata": {},
   "outputs": [
    {
     "name": "stdout",
     "output_type": "stream",
     "text": [
      "['3']\n",
      "['15', '30']\n"
     ]
    }
   ],
   "source": [
    "import re\n",
    "# Compile the regular expression pattern\n",
    "pattern = re.compile(r'\\d+')  # Matches one or more digits\n",
    "# Use the pattern object to search for matches in different texts\n",
    "text1 = \"There are 3 apples.\"\n",
    "text2 = \"I have 15 dollars and 30 cents.\"\n",
    "# Find matches in text1\n",
    "matches1 = pattern.findall(text1)\n",
    "# Find matches in text2\n",
    "matches2 = pattern.findall(text2)\n",
    "# Output the matches\n",
    "print(matches1)\n",
    "print(matches2)"
   ]
  },
  {
   "cell_type": "markdown",
   "id": "dd86508d-842c-45d4-b89e-cb845067e447",
   "metadata": {},
   "source": [
    "## Extracting Phone Numbers"
   ]
  },
  {
   "cell_type": "markdown",
   "id": "f892c428-8261-461d-8ca9-d20b8d843add",
   "metadata": {},
   "source": [
    "### a. Defining the Regular Expression Pattern"
   ]
  },
  {
   "cell_type": "code",
   "execution_count": 73,
   "id": "a1824ac5-ba50-422d-befb-bd6c4bc1d5ed",
   "metadata": {},
   "outputs": [],
   "source": [
    "import re\n",
    "# Define the regular expression pattern for phone numbers\n",
    "phone_number_pattern = re.compile(r'\\d{3}-\\d{3}-\\d{4}')"
   ]
  },
  {
   "cell_type": "markdown",
   "id": "2b6768cf-313d-4dd7-88e3-af493ac7df81",
   "metadata": {},
   "source": [
    "### b. Using the findall() Method"
   ]
  },
  {
   "cell_type": "code",
   "execution_count": 74,
   "id": "817406f0-aaf8-424f-92bd-2831bf3f5db5",
   "metadata": {},
   "outputs": [],
   "source": [
    "# Sample text with phone numbers\n",
    "text = \"\"\"\n",
    "John Doe: 123-456-7890\n",
    "Jane Doe: 234-567-8901\n",
    "Office: 555-555-5555\n",
    "\"\"\"\n",
    "# Find all phone numbers in the text\n",
    "phone_numbers = phone_number_pattern.findall(text)"
   ]
  },
  {
   "cell_type": "markdown",
   "id": "c6336df0-f82a-495c-8dd2-6f25069f5dfe",
   "metadata": {},
   "source": [
    "### c. Printing the Results"
   ]
  },
  {
   "cell_type": "code",
   "execution_count": 75,
   "id": "14961d0e-3c91-4909-9eb0-c1722d4fd311",
   "metadata": {},
   "outputs": [
    {
     "name": "stdout",
     "output_type": "stream",
     "text": [
      "Phone numbers found:\n",
      "123-456-7890\n",
      "234-567-8901\n",
      "555-555-5555\n"
     ]
    }
   ],
   "source": [
    "# Output the phone numbers\n",
    "print(\"Phone numbers found:\")\n",
    "for phone_number in phone_numbers:\n",
    "    print(phone_number)\n"
   ]
  },
  {
   "cell_type": "markdown",
   "id": "85c9b5b1-8225-4f67-be84-b96facc9b4ce",
   "metadata": {},
   "source": [
    "#  <font color='darkcyan' >  7 - Closures </font>"
   ]
  },
  {
   "cell_type": "code",
   "execution_count": 81,
   "id": "7eb801f7-911a-406a-9d68-694a4f3c3cae",
   "metadata": {},
   "outputs": [
    {
     "name": "stdout",
     "output_type": "stream",
     "text": [
      "8\n"
     ]
    }
   ],
   "source": [
    "def calculator(operator):\n",
    "\n",
    "    def calculate(num1, num2):\n",
    "\n",
    "        if operator == '+':\n",
    "\n",
    "            return num1 + num2\n",
    "\n",
    "        elif operator == '-':\n",
    "\n",
    "            return num1 - num2\n",
    "\n",
    "        elif operator == '*':\n",
    "\n",
    "            return num1 * num2\n",
    "\n",
    "        elif operator == '/':\n",
    "\n",
    "            return num1 / num2\n",
    "\n",
    "    return calculate\n",
    "\n",
    "addition = calculator('+')\n",
    "\n",
    "print(addition(5, 3))"
   ]
  },
  {
   "cell_type": "code",
   "execution_count": 82,
   "id": "4efd8f53-c036-40e0-95bb-cebf0d7f44f1",
   "metadata": {},
   "outputs": [
    {
     "name": "stdout",
     "output_type": "stream",
     "text": [
      "4\n"
     ]
    }
   ],
   "source": [
    "menha = calculator('-')\n",
    "print(menha(8,4))"
   ]
  },
  {
   "cell_type": "code",
   "execution_count": null,
   "id": "e3c210ec-27b5-4ae2-822b-b20712d57174",
   "metadata": {},
   "outputs": [],
   "source": []
  }
 ],
 "metadata": {
  "kernelspec": {
   "display_name": "Python 3 (ipykernel)",
   "language": "python",
   "name": "python3"
  },
  "language_info": {
   "codemirror_mode": {
    "name": "ipython",
    "version": 3
   },
   "file_extension": ".py",
   "mimetype": "text/x-python",
   "name": "python",
   "nbconvert_exporter": "python",
   "pygments_lexer": "ipython3",
   "version": "3.12.4"
  }
 },
 "nbformat": 4,
 "nbformat_minor": 5
}
